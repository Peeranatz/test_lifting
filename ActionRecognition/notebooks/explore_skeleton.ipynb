{
 "cells": [
  {
   "cell_type": "code",
   "execution_count": 1,
   "id": "0b2894b8",
   "metadata": {},
   "outputs": [],
   "source": [
    "import matplotlib.pyplot as plt \n",
    "from mpl_toolkits.mplot3d import Axes3D\n",
    "import numpy as np "
   ]
  },
  {
   "cell_type": "code",
   "execution_count": 27,
   "id": "23a11fd7",
   "metadata": {},
   "outputs": [],
   "source": [
    "def read_skeleton_file(filename): # อ่านไฟล์ .skeleton\n",
    "    with open(filename, 'r') as f:\n",
    "        lines = f.readlines()\n",
    "\n",
    "    index = 0\n",
    "    num_frames = int(lines[index].strip()); index += 1\n",
    "    data = []\n",
    "\n",
    "    for _ in range(num_frames):\n",
    "        frame = {}\n",
    "        num_bodies = int(lines[index].strip()); index += 1\n",
    "        frame['bodies'] = []\n",
    "\n",
    "        for _ in range(num_bodies):\n",
    "            body_id_line = lines[index].strip(); index += 1\n",
    "            while not lines[index].strip().isdigit():\n",
    "                index += 1\n",
    "\n",
    "            num_joints = int(lines[index].strip()); index += 1\n",
    "            joints = []\n",
    "\n",
    "            for _ in range(num_joints):\n",
    "                parts = lines[index].strip().split()\n",
    "                x, y, z = map(float, parts[:3])\n",
    "                joints.append((x, y, z))\n",
    "                index += 1\n",
    "\n",
    "            frame['bodies'].append({'joints': joints})\n",
    "\n",
    "        data.append(frame)\n",
    "\n",
    "    return data"
   ]
  },
  {
   "cell_type": "code",
   "execution_count": 28,
   "id": "40f6caa1",
   "metadata": {},
   "outputs": [],
   "source": [
    "def get_sequence_length(skeleton_data): # ดึงจำนวนเฟรมทั้งหมด\n",
    "    return len(skeleton_data)"
   ]
  },
  {
   "cell_type": "code",
   "execution_count": 29,
   "id": "91666230",
   "metadata": {},
   "outputs": [],
   "source": [
    "def extract_joint_sequence(skeleton_data, joint_id, body_index=0): # ดึงตำแหน่งของ joint ที่กำหนดตลอด sequence\n",
    "    sequence = []\n",
    "    for frame in skeleton_data:\n",
    "        try:\n",
    "            joints = frame['bodies'][body_index]['joints']\n",
    "            if joint_id < len(joints):\n",
    "                sequence.append(joints[joint_id])\n",
    "        except:\n",
    "            continue\n",
    "    return sequence"
   ]
  },
  {
   "cell_type": "code",
   "execution_count": 30,
   "id": "05564b8d",
   "metadata": {},
   "outputs": [],
   "source": [
    "def compute_movement(joint_sequence): # คำนวณระยะการเคลื่อนไหว รวม เฉลี่ย และ SD ของข้อมือขวา\n",
    "    diffs = []\n",
    "    for i in range(1, len(joint_sequence)):\n",
    "        prev = np.array(joint_sequence[i - 1])\n",
    "        curr = np.array(joint_sequence[i])\n",
    "        diff = np.linalg.norm(curr - prev)\n",
    "        diffs.append(diff)\n",
    "    return sum(diffs), np.mean(diffs), np.std(diffs)"
   ]
  },
  {
   "cell_type": "code",
   "execution_count": 31,
   "id": "ddd8cce3",
   "metadata": {},
   "outputs": [],
   "source": [
    "def print_basic_stats(skeleton_data): # แสดงสถิติพื้นฐานเช่น จำนวนเฟรม จำนวนร่างในแต่ละเฟรม\n",
    "    num_frames = len(skeleton_data)\n",
    "    max_bodies = max(len(f) for f in skeleton_data)\n",
    "    print(f\"Total frames: {num_frames}\")\n",
    "    print(f\"Max bodies in a frame: {max_bodies}\")"
   ]
  },
  {
   "cell_type": "code",
   "execution_count": 33,
   "id": "f35202bb",
   "metadata": {},
   "outputs": [
    {
     "name": "stdout",
     "output_type": "stream",
     "text": [
      "Total frames: 103\n",
      "Max bodies in a frame: 1\n",
      "Sequence Length: 103 frames\n",
      "Right wrist positions (first few): [(0.2040377, -0.476396, 4.094294), (0.1938665, -0.4768415, 3.967519), (0.1940295, -0.4770178, 3.970365), (0.2325329, -0.4818147, 4.126212), (0.1945294, -0.4784354, 3.967172)]\n",
      "Right wrist movement: total=3.289, mean=0.032, std=0.051\n",
      "\n",
      "Frame 1:\n",
      "  Joint 0: x=0.218, y=0.173, z=3.786\n",
      "  Joint 1: x=0.232, y=0.433, z=3.715\n",
      "  Joint 2: x=0.246, y=0.688, z=3.634\n",
      "  Joint 3: x=0.213, y=0.808, z=3.582\n",
      "  Joint 4: x=0.111, y=0.611, z=3.717\n",
      "  Joint 5: x=0.101, y=0.429, z=3.743\n",
      "  Joint 6: x=0.119, y=0.343, z=3.557\n",
      "  Joint 7: x=0.117, y=0.317, z=3.551\n",
      "  Joint 8: x=0.345, y=0.574, z=3.589\n",
      "  Joint 9: x=0.421, y=0.385, z=3.628\n",
      "  Joint 10: x=0.192, y=0.319, z=3.541\n",
      "  Joint 11: x=0.130, y=0.317, z=3.543\n",
      "  Joint 12: x=0.163, y=0.175, z=3.778\n",
      "  Joint 13: x=0.198, y=-0.136, z=3.904\n",
      "  Joint 14: x=0.244, y=-0.420, z=4.054\n",
      "  Joint 15: x=0.204, y=-0.476, z=4.094\n",
      "  Joint 16: x=0.270, y=0.168, z=3.730\n",
      "  Joint 17: x=0.311, y=-0.146, z=3.818\n",
      "  Joint 18: x=0.343, y=-0.433, z=3.943\n",
      "  Joint 19: x=0.295, y=-0.502, z=3.969\n",
      "  Joint 20: x=0.243, y=0.625, z=3.656\n",
      "  Joint 21: x=0.120, y=0.296, z=3.532\n",
      "  Joint 22: x=0.099, y=0.346, z=3.528\n",
      "  Joint 23: x=0.087, y=0.299, z=3.546\n",
      "  Joint 24: x=0.127, y=0.281, z=3.550\n"
     ]
    }
   ],
   "source": [
    "if __name__ == '__main__':\n",
    "    filename = \"/Users/balast/Desktop/LiftingProject/LiftingDetection/ActionRecognition/notebooks/DataTest/S001C001P001R001A001.skeleton\"\n",
    "    skeleton_data = read_skeleton_file(filename)\n",
    "\n",
    "    print_basic_stats(skeleton_data)\n",
    "\n",
    "    length = get_sequence_length(skeleton_data)\n",
    "    print(f\"Sequence Length: {length} frames\")\n",
    "\n",
    "    right_wrist_seq = extract_joint_sequence(skeleton_data, joint_id=15)\n",
    "    print(\"Right wrist positions (first few):\", right_wrist_seq[:5])\n",
    "\n",
    "    total, mean, std = compute_movement(right_wrist_seq)\n",
    "    print(f\"Right wrist movement: total={total:.3f}, mean={mean:.3f}, std={std:.3f}\")\n",
    "\n",
    "    frame_idx = 1\n",
    "    for idx, frame in enumerate(skeleton_data[:frame_idx]):\n",
    "        print(f\"\\nFrame {idx + 1}:\")\n",
    "        for body in frame['bodies']:\n",
    "            for joint_id, (x, y, z) in enumerate(body['joints']):\n",
    "                print(f\"  Joint {joint_id}: x={x:.3f}, y={y:.3f}, z={z:.3f}\")"
   ]
  }
 ],
 "metadata": {
  "kernelspec": {
   "display_name": "mp-env",
   "language": "python",
   "name": "python3"
  },
  "language_info": {
   "codemirror_mode": {
    "name": "ipython",
    "version": 3
   },
   "file_extension": ".py",
   "mimetype": "text/x-python",
   "name": "python",
   "nbconvert_exporter": "python",
   "pygments_lexer": "ipython3",
   "version": "3.9.21"
  }
 },
 "nbformat": 4,
 "nbformat_minor": 5
}
