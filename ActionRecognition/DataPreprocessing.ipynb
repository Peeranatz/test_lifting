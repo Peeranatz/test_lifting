{
  "nbformat": 4,
  "nbformat_minor": 0,
  "metadata": {
    "colab": {
      "provenance": [],
      "authorship_tag": "ABX9TyPe3ybBL94XeTOyJsyqCTpf",
      "include_colab_link": true
    },
    "kernelspec": {
      "name": "python3",
      "display_name": "Python 3"
    },
    "language_info": {
      "name": "python"
    }
  },
  "cells": [
    {
      "cell_type": "markdown",
      "metadata": {
        "id": "view-in-github",
        "colab_type": "text"
      },
      "source": [
        "<a href=\"https://colab.research.google.com/github/Peeranatz/LiftingDetection/blob/main/DataPreprocessing.ipynb\" target=\"_parent\"><img src=\"https://colab.research.google.com/assets/colab-badge.svg\" alt=\"Open In Colab\"/></a>"
      ]
    },
    {
      "cell_type": "code",
      "execution_count": 1,
      "metadata": {
        "colab": {
          "base_uri": "https://localhost:8080/"
        },
        "id": "z_vMwXRUZM6u",
        "outputId": "65aa7833-4a64-48a1-f427-e917a205ff9f"
      },
      "outputs": [
        {
          "output_type": "stream",
          "name": "stdout",
          "text": [
            "Drive already mounted at /content/drive; to attempt to forcibly remount, call drive.mount(\"/content/drive\", force_remount=True).\n"
          ]
        }
      ],
      "source": [
        "from google.colab import drive\n",
        "drive.mount('/content/drive')"
      ]
    },
    {
      "cell_type": "code",
      "source": [
        "import glob\n",
        "import os\n",
        "import numpy as np\n",
        "import csv\n",
        "\n",
        "from tqdm import tqdm\n",
        "from google.colab import files"
      ],
      "metadata": {
        "id": "6r-gedAvayQY"
      },
      "execution_count": 96,
      "outputs": []
    },
    {
      "cell_type": "code",
      "source": [
        "skeleton_path = \"/content/drive/MyDrive/AI/datasets_action/Skeletons_datasets\"\n",
        "\n",
        "label_map = {\n",
        "    'standing': ['A001', 'A002', 'A011'],\n",
        "    'moving': ['A009', 'A022', 'A099'],\n",
        "    'carrying': ['A006', 'A007', 'A089', 'A090', 'A092']\n",
        "}\n",
        "\n",
        "selected_files = {'standing': [], 'moving': [], 'carrying': []}\n",
        "\n",
        "for label, actions in label_map.items():\n",
        "    print(f\"\\nProcessing label: {label}\")\n",
        "    for action_id in actions:\n",
        "        action_dir = os.path.join(skeleton_path, action_id)\n",
        "        matches = glob.glob(os.path.join(action_dir, \"*.skeleton\"))\n",
        "        print(f\"  Found {len(matches)} files in {action_dir}\")\n",
        "        # for f in matches[:3]:  # แสดงแค่ 3 ไฟล์แรก\n",
        "        #     print(f\"    → {os.path.basename(f)}\")\n",
        "        selected_files[label].extend(matches)\n",
        "\n",
        "print(\"\\nAll files loaded successfully.\")"
      ],
      "metadata": {
        "colab": {
          "base_uri": "https://localhost:8080/"
        },
        "id": "obq11zjfa0BT",
        "outputId": "0dc07d81-8a0f-4eca-eb0f-7101e4ad1408"
      },
      "execution_count": 67,
      "outputs": [
        {
          "output_type": "stream",
          "name": "stdout",
          "text": [
            "\n",
            "Processing label: standing\n",
            "  Found 948 files in /content/drive/MyDrive/AI/datasets_action/Skeletons_datasets/A001\n",
            "  Found 948 files in /content/drive/MyDrive/AI/datasets_action/Skeletons_datasets/A002\n",
            "  Found 948 files in /content/drive/MyDrive/AI/datasets_action/Skeletons_datasets/A011\n",
            "\n",
            "Processing label: moving\n",
            "  Found 948 files in /content/drive/MyDrive/AI/datasets_action/Skeletons_datasets/A009\n",
            "  Found 948 files in /content/drive/MyDrive/AI/datasets_action/Skeletons_datasets/A022\n",
            "  Found 960 files in /content/drive/MyDrive/AI/datasets_action/Skeletons_datasets/A099\n",
            "\n",
            "Processing label: carrying\n",
            "  Found 948 files in /content/drive/MyDrive/AI/datasets_action/Skeletons_datasets/A006\n",
            "  Found 948 files in /content/drive/MyDrive/AI/datasets_action/Skeletons_datasets/A007\n",
            "  Found 960 files in /content/drive/MyDrive/AI/datasets_action/Skeletons_datasets/A089\n",
            "  Found 960 files in /content/drive/MyDrive/AI/datasets_action/Skeletons_datasets/A090\n",
            "  Found 960 files in /content/drive/MyDrive/AI/datasets_action/Skeletons_datasets/A092\n",
            "\n",
            "All files loaded successfully.\n"
          ]
        }
      ]
    },
    {
      "cell_type": "code",
      "source": [
        "for label, files in selected_files.items():\n",
        "    print(f\"{label}: {len(files)} files\")"
      ],
      "metadata": {
        "colab": {
          "base_uri": "https://localhost:8080/"
        },
        "id": "LTXX2S2o7Jsl",
        "outputId": "c1397842-16a4-4c12-c3a9-096837b15205"
      },
      "execution_count": 69,
      "outputs": [
        {
          "output_type": "stream",
          "name": "stdout",
          "text": [
            "standing: 2844 files\n",
            "moving: 2856 files\n",
            "carrying: 4776 files\n"
          ]
        }
      ]
    },
    {
      "cell_type": "code",
      "source": [
        "def read_skeleton_file(filename): # อ่านไฟล์ .skeleton\n",
        "    with open(filename, 'r') as f:\n",
        "        lines = f.readlines()\n",
        "\n",
        "    index = 0\n",
        "    num_frames = int(lines[index].strip()); index += 1\n",
        "    data = []\n",
        "\n",
        "    for _ in range(num_frames):\n",
        "        frame = {}\n",
        "        num_bodies = int(lines[index].strip()); index += 1\n",
        "        frame['bodies'] = []\n",
        "\n",
        "        for _ in range(num_bodies):\n",
        "            body_id_line = lines[index].strip(); index += 1\n",
        "            while not lines[index].strip().isdigit():\n",
        "                index += 1\n",
        "\n",
        "            num_joints = int(lines[index].strip()); index += 1\n",
        "            joints = []\n",
        "\n",
        "            for _ in range(num_joints):\n",
        "                parts = lines[index].strip().split()\n",
        "                x, y, z = map(float, parts[:3])\n",
        "                joints.append((x, y, z))\n",
        "                index += 1\n",
        "\n",
        "            frame['bodies'].append({'joints': joints})\n",
        "\n",
        "        data.append(frame)\n",
        "\n",
        "    return data"
      ],
      "metadata": {
        "id": "D8MazEbWF3vL"
      },
      "execution_count": 50,
      "outputs": []
    },
    {
      "cell_type": "code",
      "source": [
        "def extract_joint_sequence(skeleton_data, joint_id, body_index=0): # ดึงตำแหน่งของ joint ที่กำหนดตลอด sequence\n",
        "    sequence = []\n",
        "    for frame in skeleton_data:\n",
        "        try:\n",
        "            joints = frame['bodies'][body_index]['joints']\n",
        "            if joint_id < len(joints):\n",
        "                sequence.append(joints[joint_id])\n",
        "        except:\n",
        "            continue\n",
        "    return sequence"
      ],
      "metadata": {
        "id": "KwrDMqRxF_X_"
      },
      "execution_count": 51,
      "outputs": []
    },
    {
      "cell_type": "code",
      "source": [
        "def pad_sequence(joint_seq, target_len=30):\n",
        "    if len(joint_seq) >= target_len:\n",
        "        padded = joint_seq[:target_len]\n",
        "    else:\n",
        "        last = joint_seq[-1] if joint_seq else [(0, 0, 0)] * len(joint_seq[0])\n",
        "        padded = joint_seq + [last] * (target_len - len(joint_seq))\n",
        "    return np.array(padded)  # ← return เป็น np.array ตรงนี้"
      ],
      "metadata": {
        "id": "9oSvyCEeGkbi"
      },
      "execution_count": 76,
      "outputs": []
    },
    {
      "cell_type": "code",
      "source": [
        "def normalize_sequence(seq):\n",
        "    \"\"\"\n",
        "    normalize ตำแหน่ง joint (x, y, z) ด้วย mean-std\n",
        "    - seq: shape (T, num_joints, 3)\n",
        "    \"\"\"\n",
        "    seq_np = np.array(seq)\n",
        "    mean = seq_np.mean(axis=(0, 1), keepdims=True)\n",
        "    std = seq_np.std(axis=(0, 1), keepdims=True) + 1e-6  # ป้องกันหาร 0\n",
        "    return (seq_np - mean) / std"
      ],
      "metadata": {
        "id": "9cm3k46iG_5c"
      },
      "execution_count": 55,
      "outputs": []
    },
    {
      "cell_type": "code",
      "source": [
        "selected_joints = [\n",
        "    6, 7, 8, 22, 23,          # แขนขวา\n",
        "    10, 11, 12, 24, 25,       # แขนซ้าย\n",
        "    14, 15, 16, 18, 19, 20,   # ขา\n",
        "    1, 2, 21                  # ลำตัวกลาง\n",
        "]\n",
        "seq_len = 30\n",
        "label_to_index = {\"standing\": 0, \"moving\": 1, \"carrying\": 2}\n",
        "\n",
        "X_data = []\n",
        "y_labels = []\n",
        "file_names = []  # เผื่อเก็บชื่อไฟล์ไว้ดูภายหลัง\n",
        "\n",
        "for label, filepaths in selected_files.items():\n",
        "    print(f\"\\nProcessing label: {label} ({len(filepaths)} files)\")\n",
        "    for fpath in tqdm(filepaths, desc=f\"{label}\", unit=\"file\"):\n",
        "        try:\n",
        "            data = read_skeleton_file(fpath)\n",
        "            label_index = label_to_index[label]\n",
        "            file_name = os.path.basename(fpath)\n",
        "\n",
        "            joint_seq = []\n",
        "            for frame in data:\n",
        "                if not frame['bodies'] or len(frame['bodies'][0]['joints']) == 0:\n",
        "                    continue\n",
        "                joints = frame['bodies'][0]['joints']\n",
        "                selected = []\n",
        "                for j in selected_joints:\n",
        "                    if j < len(joints):\n",
        "                        selected.append(joints[j])\n",
        "                    else:\n",
        "                        selected.append((0.0, 0.0, 0.0))\n",
        "                joint_seq.append(selected)\n",
        "\n",
        "            if len(joint_seq) == 0:\n",
        "                continue  # skip this file if no usable frames\n",
        "\n",
        "            padded = pad_sequence(joint_seq, target_len=seq_len)\n",
        "            X_data.append(padded)\n",
        "            y_labels.append(label_index)\n",
        "            file_names.append(file_name)\n",
        "\n",
        "        except Exception as e:\n",
        "            print(f\"⚠️ Error in {fpath}: {e}\")"
      ],
      "metadata": {
        "colab": {
          "base_uri": "https://localhost:8080/"
        },
        "id": "5rdJKZQ7NzEQ",
        "outputId": "be70d9ad-ec4c-4d5b-8e5f-02386369da40"
      },
      "execution_count": 78,
      "outputs": [
        {
          "output_type": "stream",
          "name": "stdout",
          "text": [
            "\n",
            "Processing label: standing (2844 files)\n"
          ]
        },
        {
          "output_type": "stream",
          "name": "stderr",
          "text": [
            "standing: 100%|██████████| 2844/2844 [00:40<00:00, 69.57file/s]\n"
          ]
        },
        {
          "output_type": "stream",
          "name": "stdout",
          "text": [
            "\n",
            "Processing label: moving (2856 files)\n"
          ]
        },
        {
          "output_type": "stream",
          "name": "stderr",
          "text": [
            "moving: 100%|██████████| 2856/2856 [00:32<00:00, 88.95file/s]\n"
          ]
        },
        {
          "output_type": "stream",
          "name": "stdout",
          "text": [
            "\n",
            "Processing label: carrying (4776 files)\n"
          ]
        },
        {
          "output_type": "stream",
          "name": "stderr",
          "text": [
            "carrying: 100%|██████████| 4776/4776 [00:53<00:00, 88.45file/s]\n"
          ]
        }
      ]
    },
    {
      "cell_type": "code",
      "source": [
        "# แปลงเป็น numpy array\n",
        "X_data = np.array(X_data)  # shape: (N, seq_len, num_joints, 3)\n",
        "y_labels = np.array(y_labels)\n",
        "\n",
        "# บันทึกเป็น .npz\n",
        "np.savez_compressed(\"/content/skeleton_dataset_30frames.npz\", X=X_data, y=y_labels, files=np.array(file_names))\n",
        "\n",
        "print(\"\\nExported to /content/skeleton_dataset_30frames.npz\")\n",
        "print(f\"X_data shape: {X_data.shape}\")\n",
        "print(f\"y_labels shape: {y_labels.shape}\")"
      ],
      "metadata": {
        "colab": {
          "base_uri": "https://localhost:8080/"
        },
        "id": "iPS10sJogE9F",
        "outputId": "1c7d2185-6dc1-4a60-f80b-1eeea0c1dcf9"
      },
      "execution_count": 79,
      "outputs": [
        {
          "output_type": "stream",
          "name": "stdout",
          "text": [
            "\n",
            "Exported to /content/skeleton_dataset_30frames.npz\n",
            "X_data shape: (10421, 30, 19, 3)\n",
            "y_labels shape: (10421,)\n"
          ]
        }
      ]
    },
    {
      "cell_type": "code",
      "source": [
        "files.download(\"/content/skeleton_dataset_30frames.npz\")"
      ],
      "metadata": {
        "colab": {
          "base_uri": "https://localhost:8080/",
          "height": 17
        },
        "id": "hJtx9bo0l0Vn",
        "outputId": "5ca31432-3155-4da8-cc60-65c3ef04a1bd"
      },
      "execution_count": 97,
      "outputs": [
        {
          "output_type": "display_data",
          "data": {
            "text/plain": [
              "<IPython.core.display.Javascript object>"
            ],
            "application/javascript": [
              "\n",
              "    async function download(id, filename, size) {\n",
              "      if (!google.colab.kernel.accessAllowed) {\n",
              "        return;\n",
              "      }\n",
              "      const div = document.createElement('div');\n",
              "      const label = document.createElement('label');\n",
              "      label.textContent = `Downloading \"${filename}\": `;\n",
              "      div.appendChild(label);\n",
              "      const progress = document.createElement('progress');\n",
              "      progress.max = size;\n",
              "      div.appendChild(progress);\n",
              "      document.body.appendChild(div);\n",
              "\n",
              "      const buffers = [];\n",
              "      let downloaded = 0;\n",
              "\n",
              "      const channel = await google.colab.kernel.comms.open(id);\n",
              "      // Send a message to notify the kernel that we're ready.\n",
              "      channel.send({})\n",
              "\n",
              "      for await (const message of channel.messages) {\n",
              "        // Send a message to notify the kernel that we're ready.\n",
              "        channel.send({})\n",
              "        if (message.buffers) {\n",
              "          for (const buffer of message.buffers) {\n",
              "            buffers.push(buffer);\n",
              "            downloaded += buffer.byteLength;\n",
              "            progress.value = downloaded;\n",
              "          }\n",
              "        }\n",
              "      }\n",
              "      const blob = new Blob(buffers, {type: 'application/binary'});\n",
              "      const a = document.createElement('a');\n",
              "      a.href = window.URL.createObjectURL(blob);\n",
              "      a.download = filename;\n",
              "      div.appendChild(a);\n",
              "      a.click();\n",
              "      div.remove();\n",
              "    }\n",
              "  "
            ]
          },
          "metadata": {}
        },
        {
          "output_type": "display_data",
          "data": {
            "text/plain": [
              "<IPython.core.display.Javascript object>"
            ],
            "application/javascript": [
              "download(\"download_650fa180-25be-4813-a121-c39108a0aac3\", \"skeleton_dataset_30frames.npz\", 124814000)"
            ]
          },
          "metadata": {}
        }
      ]
    },
    {
      "cell_type": "code",
      "source": [
        "# print(X_data[0].shape)\n",
        "# print(X_data[0][0]) # ดูตำแหน่งของ joint ในเฟรมที่ 0 ของตัวอย่างที่ 0\n",
        "# print(X_data[0][0][5]) # ดูตำแหน่งของ joint ที่ 5 (ของตัวอย่างที่ 0, เฟรมที่ 0)\n",
        "\n",
        "np.set_printoptions(precision=3, suppress=True)\n",
        "print(X_data[0][0])  # joint ทั้งหมดในเฟรมแรกของตัวอย่างแรก"
      ],
      "metadata": {
        "colab": {
          "base_uri": "https://localhost:8080/"
        },
        "id": "Zo41PZEXiwCg",
        "outputId": "06e118e6-fb24-4590-d9fd-ec581b61ef2e"
      },
      "execution_count": 87,
      "outputs": [
        {
          "output_type": "stream",
          "name": "stdout",
          "text": [
            "[[-0.445 -0.111  3.723]\n",
            " [-0.436 -0.187  3.751]\n",
            " [-0.07   0.36   3.561]\n",
            " [-0.4   -0.162  3.741]\n",
            " [ 0.022 -0.264  3.715]\n",
            " [ 0.008 -0.12   3.74 ]\n",
            " [ 0.002 -0.191  3.737]\n",
            " [-0.285 -0.086  3.752]\n",
            " [-0.032 -0.189  3.725]\n",
            " [ 0.     0.     0.   ]\n",
            " [-0.321 -0.626  4.132]\n",
            " [-0.309 -0.71   4.031]\n",
            " [-0.142 -0.065  3.756]\n",
            " [-0.11  -0.632  4.133]\n",
            " [-0.1   -0.717  4.032]\n",
            " [-0.223  0.374  3.54 ]\n",
            " [-0.222  0.181  3.649]\n",
            " [-0.223  0.439  3.501]\n",
            " [-0.429 -0.266  3.77 ]]\n"
          ]
        }
      ]
    },
    {
      "cell_type": "code",
      "source": [
        "def print_joint_info(X_data, sample_idx, frame_idx, joint_idx):\n",
        "    joint_index_map = {\n",
        "        0:  (\"6\",  \"Right Elbow\"),\n",
        "        1:  (\"7\",  \"Right Wrist\"),\n",
        "        2:  (\"8\",  \"Right Hand\"),\n",
        "        3:  (\"22\", \"Right Hand Tip\"),\n",
        "        4:  (\"23\", \"Right Thumb\"),\n",
        "        5:  (\"10\", \"Left Elbow\"),\n",
        "        6:  (\"11\", \"Left Wrist\"),\n",
        "        7:  (\"12\", \"Left Hand\"),\n",
        "        8:  (\"24\", \"Left Hand Tip\"),\n",
        "        9:  (\"25\", \"Left Thumb\"),\n",
        "        10: (\"14\", \"Right Hip\"),\n",
        "        11: (\"15\", \"Right Knee\"),\n",
        "        12: (\"16\", \"Right Ankle\"),\n",
        "        13: (\"18\", \"Left Hip\"),\n",
        "        14: (\"19\", \"Left Knee\"),\n",
        "        15: (\"20\", \"Left Ankle\"),\n",
        "        16: (\"1\",  \"Spine Mid / Neck\"),\n",
        "        17: (\"2\",  \"Spine Shoulder\"),\n",
        "        18: (\"21\", \"Spine Base\")\n",
        "    }\n",
        "\n",
        "    try:\n",
        "        joint_id, joint_name = joint_index_map[joint_idx]\n",
        "        x, y, z = X_data[sample_idx][frame_idx][joint_idx]\n",
        "        print(f\"Sample {sample_idx}, Frame {frame_idx}, Joint {joint_idx}\")\n",
        "        print(f\"→ Joint in NTU Dataset {joint_id}: {joint_name}\")\n",
        "        print(f\"→ Coordinates: x={x:.3f}, y={y:.3f}, z={z:.3f}\")\n",
        "    except IndexError:\n",
        "        print(\"Index out of range — กรุณาตรวจสอบ index ที่ใช้\")\n",
        "    except KeyError:\n",
        "        print(\"Joint index ไม่อยู่ใน selected_joints ที่กำหนดไว้\")"
      ],
      "metadata": {
        "id": "SQrQPAflkDg8"
      },
      "execution_count": 92,
      "outputs": []
    },
    {
      "cell_type": "code",
      "source": [
        "print_joint_info(X_data, sample_idx=0, frame_idx=0, joint_idx=1)"
      ],
      "metadata": {
        "colab": {
          "base_uri": "https://localhost:8080/"
        },
        "id": "CCLntKm8kk3O",
        "outputId": "29c2a873-05dd-49e2-f154-4e44f4a0bf79"
      },
      "execution_count": 93,
      "outputs": [
        {
          "output_type": "stream",
          "name": "stdout",
          "text": [
            "Sample 0, Frame 0, Joint 1\n",
            "→ Joint in NTU Dataset 7: Right Wrist\n",
            "→ Coordinates: x=-0.436, y=-0.187, z=3.751\n"
          ]
        }
      ]
    },
    {
      "cell_type": "code",
      "source": [
        "label_names = {0: 'standing', 1: 'moving', 2: 'carrying'}\n",
        "unique, counts = np.unique(y_labels, return_counts=True)\n",
        "for label, count in zip(unique, counts):\n",
        "    print(f\"{label_names[label]} ({label}): {count}\")"
      ],
      "metadata": {
        "colab": {
          "base_uri": "https://localhost:8080/"
        },
        "id": "syZv3HeXhY0z",
        "outputId": "14264a76-bce2-4216-c74d-f24a88e7282e"
      },
      "execution_count": 82,
      "outputs": [
        {
          "output_type": "stream",
          "name": "stdout",
          "text": [
            "standing (0): 2822\n",
            "moving (1): 2840\n",
            "carrying (2): 4759\n"
          ]
        }
      ]
    }
  ]
}
